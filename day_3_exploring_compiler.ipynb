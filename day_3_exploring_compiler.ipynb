{
 "cells": [
  {
   "cell_type": "code",
   "execution_count": 4,
   "metadata": {},
   "outputs": [
    {
     "name": "stdout",
     "output_type": "stream",
     "text": [
      "Requirement already satisfied: numba in ./studyPy/lib/python3.9/site-packages (0.54.1)\n",
      "Requirement already satisfied: llvmlite<0.38,>=0.37.0rc1 in ./studyPy/lib/python3.9/site-packages (from numba) (0.37.0)\n",
      "Requirement already satisfied: numpy<1.21,>=1.17 in ./studyPy/lib/python3.9/site-packages (from numba) (1.20.3)\n",
      "Requirement already satisfied: setuptools in ./studyPy/lib/python3.9/site-packages (from numba) (44.1.1)\n",
      "Note: you may need to restart the kernel to use updated packages.\n"
     ]
    }
   ],
   "source": [
    "%pip install numba"
   ]
  },
  {
   "cell_type": "code",
   "execution_count": 2,
   "metadata": {},
   "outputs": [],
   "source": [
    "from numba import jit\n",
    "@jit\n",
    "def sum_sq(arr : list):\n",
    "    result = 0\n",
    "    N = len(arr)\n",
    "    for i in range(N):\n",
    "        result += arr[i]\n",
    "    return result\n",
    "\n",
    "import numpy as np\n",
    "x = np.random.rand(10000)"
   ]
  },
  {
   "cell_type": "code",
   "execution_count": 3,
   "metadata": {},
   "outputs": [
    {
     "name": "stdout",
     "output_type": "stream",
     "text": [
      "1.37 ms ± 18.8 µs per loop (mean ± std. dev. of 7 runs, 1000 loops each)\n"
     ]
    }
   ],
   "source": [
    "%timeit sum_sq.py_func(x)"
   ]
  },
  {
   "cell_type": "code",
   "execution_count": 4,
   "metadata": {},
   "outputs": [
    {
     "name": "stdout",
     "output_type": "stream",
     "text": [
      "8.5 µs ± 24.1 ns per loop (mean ± std. dev. of 7 runs, 100000 loops each)\n"
     ]
    }
   ],
   "source": [
    "%timeit sum_sq(x)"
   ]
  }
 ],
 "metadata": {
  "interpreter": {
   "hash": "7b7397fcbd8e692aaba3837b28579dd5e0648ab7e14b616717a9d5372987cb8b"
  },
  "kernelspec": {
   "display_name": "Python 3.9.7 64-bit ('studyPy': venv)",
   "name": "python3"
  },
  "language_info": {
   "codemirror_mode": {
    "name": "ipython",
    "version": 3
   },
   "file_extension": ".py",
   "mimetype": "text/x-python",
   "name": "python",
   "nbconvert_exporter": "python",
   "pygments_lexer": "ipython3",
   "version": "3.9.7"
  },
  "orig_nbformat": 4
 },
 "nbformat": 4,
 "nbformat_minor": 2
}
